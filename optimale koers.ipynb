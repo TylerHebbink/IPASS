{
 "cells": [
  {
   "cell_type": "markdown",
   "id": "67f4a506",
   "metadata": {},
   "source": [
    "\n",
    "## Optimale koers\n",
    "#### het berekenen van de optimale koers op een zeilboot"
   ]
  },
  {
   "cell_type": "code",
   "execution_count": 1,
   "id": "752db487",
   "metadata": {},
   "outputs": [],
   "source": [
    "import calculations as cal\n",
    "import polar_diagram as pd\n",
    "import main as m\n",
    "from time import sleep\n"
   ]
  },
  {
   "cell_type": "markdown",
   "id": "b45c0fd0",
   "metadata": {},
   "source": [
    "### Bereken VMC\n",
    "Hieronder kun je eigen coordinaten invullen, de wind in knopen richting veranderen en de windsnelheid."
   ]
  },
  {
   "cell_type": "code",
   "execution_count": 14,
   "id": "0dd1e4cf",
   "metadata": {},
   "outputs": [
    {
     "data": {
      "text/plain": [
       "227"
      ]
     },
     "execution_count": 14,
     "metadata": {},
     "output_type": "execute_result"
    }
   ],
   "source": [
    "coordinate_wp = [52.396396, 5.709309]\n",
    "coordinate_boat = [52.396534, 5.712656]\n",
    "\n",
    "wind_richting = 270\n",
    "windspeed = 6\n",
    "\n",
    "def optimale_vmc(kts, TWA, coordinate_boat, coordinate_wp):\n",
    "    pd.check_polar_Table()\n",
    "    WPA = cal.direct_course(coordinate_boat,coordinate_wp)\n",
    "    return (cal.optimal_vmc(WPA, TWA, kts))\n",
    "\n",
    "optimale_vmc (windspeed, wind_richting, coordinate_boat, coordinate_wp)"
   ]
  },
  {
   "cell_type": "markdown",
   "id": "a702f86f",
   "metadata": {},
   "source": [
    "### De loop testen\n",
    "Hieronder staat een kleine test uitgeschreven om te laten zien dat de loop zich herhaalt zolang er een boot locatie is. "
   ]
  },
  {
   "cell_type": "code",
   "execution_count": 2,
   "id": "7ea9d199",
   "metadata": {},
   "outputs": [
    {
     "name": "stdout",
     "output_type": "stream",
     "text": [
      "266\n"
     ]
    },
    {
     "ename": "KeyboardInterrupt",
     "evalue": "",
     "output_type": "error",
     "traceback": [
      "\u001b[1;31m---------------------------------------------------------------------------\u001b[0m",
      "\u001b[1;31mKeyboardInterrupt\u001b[0m                         Traceback (most recent call last)",
      "\u001b[1;32m<ipython-input-2-9b6aacf3ba11>\u001b[0m in \u001b[0;36m<module>\u001b[1;34m\u001b[0m\n\u001b[0;32m      9\u001b[0m \u001b[1;33m\u001b[0m\u001b[0m\n\u001b[0;32m     10\u001b[0m \u001b[1;33m\u001b[0m\u001b[0m\n\u001b[1;32m---> 11\u001b[1;33m \u001b[0mm\u001b[0m\u001b[1;33m.\u001b[0m\u001b[0mtest_loop\u001b[0m\u001b[1;33m(\u001b[0m\u001b[0mwindspeed\u001b[0m\u001b[1;33m,\u001b[0m \u001b[0mwind_richting\u001b[0m\u001b[1;33m,\u001b[0m \u001b[0mcoordinate_boats\u001b[0m\u001b[1;33m,\u001b[0m \u001b[0mcoordinate_wp\u001b[0m\u001b[1;33m)\u001b[0m\u001b[1;33m\u001b[0m\u001b[1;33m\u001b[0m\u001b[0m\n\u001b[0m",
      "\u001b[1;32m~\\PycharmProjects\\IPASS\\main.py\u001b[0m in \u001b[0;36mtest_loop\u001b[1;34m(windspeed, wind_richting, coordinate_boats, coordinate_wp)\u001b[0m\n\u001b[0;32m     50\u001b[0m \u001b[1;33m\u001b[0m\u001b[0m\n\u001b[0;32m     51\u001b[0m \u001b[1;32mdef\u001b[0m \u001b[0mtest_loop\u001b[0m\u001b[1;33m(\u001b[0m\u001b[0mwindspeed\u001b[0m\u001b[1;33m,\u001b[0m\u001b[0mwind_richting\u001b[0m\u001b[1;33m,\u001b[0m\u001b[0mcoordinate_boats\u001b[0m\u001b[1;33m,\u001b[0m\u001b[0mcoordinate_wp\u001b[0m\u001b[1;33m)\u001b[0m\u001b[1;33m:\u001b[0m\u001b[1;33m\u001b[0m\u001b[1;33m\u001b[0m\u001b[0m\n\u001b[1;32m---> 52\u001b[1;33m     \u001b[0mrun_main\u001b[0m\u001b[1;33m(\u001b[0m\u001b[0mwindspeed\u001b[0m\u001b[1;33m,\u001b[0m\u001b[0mwind_richting\u001b[0m\u001b[1;33m,\u001b[0m\u001b[0mcoordinate_boats\u001b[0m\u001b[1;33m,\u001b[0m\u001b[0mcoordinate_wp\u001b[0m\u001b[1;33m)\u001b[0m\u001b[1;33m\u001b[0m\u001b[1;33m\u001b[0m\u001b[0m\n\u001b[0m\u001b[0;32m     53\u001b[0m \u001b[1;33m\u001b[0m\u001b[0m\n",
      "\u001b[1;32m~\\PycharmProjects\\IPASS\\main.py\u001b[0m in \u001b[0;36mrun_main\u001b[1;34m(kts, TWA, list_co, coordinate_wp)\u001b[0m\n\u001b[0;32m     43\u001b[0m         \u001b[0mWPA\u001b[0m \u001b[1;33m=\u001b[0m \u001b[0mcal\u001b[0m\u001b[1;33m.\u001b[0m\u001b[0mdirect_course\u001b[0m\u001b[1;33m(\u001b[0m\u001b[0mcoordinate_boat\u001b[0m\u001b[1;33m,\u001b[0m\u001b[0mcoordinate_wp\u001b[0m\u001b[1;33m)\u001b[0m\u001b[1;33m\u001b[0m\u001b[1;33m\u001b[0m\u001b[0m\n\u001b[0;32m     44\u001b[0m         \u001b[0mprint\u001b[0m\u001b[1;33m(\u001b[0m\u001b[0mcal\u001b[0m\u001b[1;33m.\u001b[0m\u001b[0moptimal_vmc\u001b[0m\u001b[1;33m(\u001b[0m\u001b[0mWPA\u001b[0m\u001b[1;33m,\u001b[0m \u001b[0mTWA\u001b[0m\u001b[1;33m,\u001b[0m \u001b[0mkts\u001b[0m\u001b[1;33m)\u001b[0m\u001b[1;33m)\u001b[0m\u001b[1;33m\u001b[0m\u001b[1;33m\u001b[0m\u001b[0m\n\u001b[1;32m---> 45\u001b[1;33m         \u001b[0mt\u001b[0m\u001b[1;33m.\u001b[0m\u001b[0msleep\u001b[0m\u001b[1;33m(\u001b[0m\u001b[1;36m10\u001b[0m\u001b[1;33m)\u001b[0m\u001b[1;33m\u001b[0m\u001b[1;33m\u001b[0m\u001b[0m\n\u001b[0m\u001b[0;32m     46\u001b[0m         \u001b[0mcounter\u001b[0m \u001b[1;33m=\u001b[0m \u001b[0mcounter\u001b[0m \u001b[1;33m+\u001b[0m \u001b[1;36m1\u001b[0m\u001b[1;33m\u001b[0m\u001b[1;33m\u001b[0m\u001b[0m\n\u001b[0;32m     47\u001b[0m \u001b[1;33m\u001b[0m\u001b[0m\n",
      "\u001b[1;31mKeyboardInterrupt\u001b[0m: "
     ]
    }
   ],
   "source": [
    "coordinate_wp = [52.396396, 5.709309]\n",
    "coordinate_boats = [[52.396534, 5.712656],[52.397322, 5.705867],[52.396555, 5.708278],[52.397630, 5.707079]]\n",
    "\n",
    "\n",
    "\n",
    "wind_richting = 0\n",
    "windspeed = 8\n",
    "\n",
    "m.test_loop(windspeed, wind_richting, coordinate_boats, coordinate_wp)"
   ]
  }
 ],
 "metadata": {
  "kernelspec": {
   "display_name": "Python 3",
   "language": "python",
   "name": "python3"
  },
  "language_info": {
   "codemirror_mode": {
    "name": "ipython",
    "version": 3
   },
   "file_extension": ".py",
   "mimetype": "text/x-python",
   "name": "python",
   "nbconvert_exporter": "python",
   "pygments_lexer": "ipython3",
   "version": "3.8.1"
  }
 },
 "nbformat": 4,
 "nbformat_minor": 5
}
