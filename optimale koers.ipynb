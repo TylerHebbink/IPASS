{
 "cells": [
  {
   "cell_type": "markdown",
   "id": "67f4a506",
   "metadata": {},
   "source": [
    "\n",
    "## Optimale koers\n",
    "#### het berekenen van de optimale koers op een zeilboot"
   ]
  },
  {
   "cell_type": "code",
   "execution_count": 1,
   "id": "752db487",
   "metadata": {},
   "outputs": [],
   "source": [
    "import calculations as cal\n",
    "import polar_diagram as pd\n",
    "import main as m\n",
    "from time import sleep\n"
   ]
  },
  {
   "cell_type": "markdown",
   "id": "b45c0fd0",
   "metadata": {},
   "source": [
    "### input"
   ]
  },
  {
   "cell_type": "code",
   "execution_count": null,
   "id": "0dd1e4cf",
   "metadata": {},
   "outputs": [],
   "source": [
    "cal."
   ]
  },
  {
   "cell_type": "code",
   "execution_count": null,
   "id": "c3e57b38",
   "metadata": {},
   "outputs": [],
   "source": []
  },
  {
   "cell_type": "code",
   "execution_count": null,
   "id": "afac16ca",
   "metadata": {},
   "outputs": [],
   "source": []
  },
  {
   "cell_type": "code",
   "execution_count": null,
   "id": "7ea9d199",
   "metadata": {},
   "outputs": [],
   "source": [
    "coordinate_wp = [52.396396, 5.709309]\n",
    "coordinate_boats = [[52.396534, 5.712656],[52.397322, 5.705867],[52.396555, 5.708278],[52.397630, 5.707079]]\n",
    "\n",
    "\n",
    "\n",
    "wind_richting = 0\n",
    "windspeed = 8\n",
    "waypoint_coordinaat = 0\n",
    "locatie = 0\n",
    "main = 1\n",
    "\n",
    "m.test_loop(windspeed, wind_richting, coordinate_boats, coordinate_wp)"
   ]
  }
 ],
 "metadata": {
  "kernelspec": {
   "display_name": "Python 3",
   "language": "python",
   "name": "python3"
  },
  "language_info": {
   "codemirror_mode": {
    "name": "ipython",
    "version": 3
   },
   "file_extension": ".py",
   "mimetype": "text/x-python",
   "name": "python",
   "nbconvert_exporter": "python",
   "pygments_lexer": "ipython3",
   "version": "3.8.1"
  }
 },
 "nbformat": 4,
 "nbformat_minor": 5
}
